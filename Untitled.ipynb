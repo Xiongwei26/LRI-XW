{
 "cells": [
  {
   "cell_type": "code",
   "execution_count": 2,
   "id": "1c3176d5",
   "metadata": {},
   "outputs": [
    {
     "name": "stdout",
     "output_type": "stream",
     "text": [
      "11111\n"
     ]
    }
   ],
   "source": [
    "print(11111)"
   ]
  },
  {
   "cell_type": "markdown",
   "id": "bbd491aa",
   "metadata": {},
   "source": [
    "#备注\n",
    "##备注1"
   ]
  },
  {
   "cell_type": "code",
   "execution_count": 3,
   "id": "a0179bff",
   "metadata": {},
   "outputs": [],
   "source": [
    "from sklearn.model_selection import StratifiedKFold\n",
    "from sklearn.metrics import accuracy_score, precision_score, recall_score, f1_score\n",
    "import pandas as pd\n",
    "import numpy as np\n",
    "from sklearn.metrics import precision_recall_curve, roc_curve, auc\n",
    "import KTBoost.KTBoost as KB\n",
    "import gpboost as gb"
   ]
  },
  {
   "cell_type": "code",
   "execution_count": 8,
   "id": "c9c7d2cb",
   "metadata": {},
   "outputs": [
    {
     "name": "stdout",
     "output_type": "stream",
     "text": [
      "[[1 1 1 ... 0 0 0]\n",
      " [0 0 0 ... 0 0 0]\n",
      " [0 0 0 ... 0 0 0]\n",
      " ...\n",
      " [0 0 0 ... 0 0 1]\n",
      " [0 0 0 ... 0 0 0]\n",
      " [0 0 0 ... 0 0 0]]\n"
     ]
    }
   ],
   "source": [
    "interaction = pd.read_csv(\"Related.csv\", header=None, index_col=None).to_numpy()\n",
    "print(interaction)"
   ]
  },
  {
   "cell_type": "code",
   "execution_count": null,
   "id": "dfe6a719",
   "metadata": {},
   "outputs": [],
   "source": []
  },
  {
   "cell_type": "code",
   "execution_count": null,
   "id": "ca118ffd",
   "metadata": {},
   "outputs": [],
   "source": []
  }
 ],
 "metadata": {
  "kernelspec": {
   "display_name": "Python 3 (ipykernel)",
   "language": "python",
   "name": "python3"
  },
  "language_info": {
   "codemirror_mode": {
    "name": "ipython",
    "version": 3
   },
   "file_extension": ".py",
   "mimetype": "text/x-python",
   "name": "python",
   "nbconvert_exporter": "python",
   "pygments_lexer": "ipython3",
   "version": "3.9.15"
  }
 },
 "nbformat": 4,
 "nbformat_minor": 5
}
